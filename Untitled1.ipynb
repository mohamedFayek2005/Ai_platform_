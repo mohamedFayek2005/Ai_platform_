{
  "nbformat": 4,
  "nbformat_minor": 0,
  "metadata": {
    "colab": {
      "provenance": [],
      "authorship_tag": "ABX9TyM6nKovTY1FUDCFbQ/BWKRR",
      "include_colab_link": true
    },
    "kernelspec": {
      "name": "python3",
      "display_name": "Python 3"
    },
    "language_info": {
      "name": "python"
    }
  },
  "cells": [
    {
      "cell_type": "markdown",
      "metadata": {
        "id": "view-in-github",
        "colab_type": "text"
      },
      "source": [
        "<a href=\"https://colab.research.google.com/github/mohamedFayek2005/Ai_platform_/blob/main/Untitled1.ipynb\" target=\"_parent\"><img src=\"https://colab.research.google.com/assets/colab-badge.svg\" alt=\"Open In Colab\"/></a>"
      ]
    },
    {
      "cell_type": "code",
      "execution_count": 2,
      "metadata": {
        "id": "ET7QAhQn_hQo"
      },
      "outputs": [],
      "source": [
        "import torch\n",
        "import torch.nn.functional as F\n"
      ]
    },
    {
      "cell_type": "code",
      "source": [
        "x = torch.tensor([[1.0, 2.0]], requires_grad=True)  # مثال بسيط على input 2D\n"
      ],
      "metadata": {
        "id": "YJkGc-zb_7Im"
      },
      "execution_count": 3,
      "outputs": []
    },
    {
      "cell_type": "code",
      "source": [
        "w00 = torch.randn((2,), requires_grad=True)\n",
        "b00 = torch.randn(1, requires_grad=True)\n",
        "\n",
        "w01 = torch.randn((2,), requires_grad=True)\n",
        "b01 = torch.randn(1, requires_grad=True)\n",
        "\n",
        "w02 = torch.randn((2,), requires_grad=True)\n",
        "b02 = torch.randn(1, requires_grad=True)\n",
        "\n",
        "# forward\n",
        "z1_0 = torch.relu(torch.matmul(x, w00) + b00)\n",
        "z1_1 = torch.relu(torch.matmul(x, w01) + b01)\n",
        "z1_2 = torch.relu(torch.matmul(x, w02) + b02)\n",
        "\n",
        "layer1_out = torch.stack([z1_0, z1_1, z1_2], dim=1)\n",
        "print(\"Layer 1 output:\", layer1_out)\n"
      ],
      "metadata": {
        "colab": {
          "base_uri": "https://localhost:8080/"
        },
        "id": "P2-mxFmbAGcT",
        "outputId": "b55224db-d6ed-4876-c271-868b1f747f08"
      },
      "execution_count": 4,
      "outputs": [
        {
          "output_type": "stream",
          "name": "stdout",
          "text": [
            "Layer 1 output: tensor([[1.5989, 0.0000, 0.0000]], grad_fn=<StackBackward0>)\n"
          ]
        }
      ]
    },
    {
      "cell_type": "code",
      "source": [
        "w10 = torch.randn((3,), requires_grad=True)\n",
        "b10 = torch.randn(1, requires_grad=True)\n",
        "\n",
        "w11 = torch.randn((3,), requires_grad=True)\n",
        "b11 = torch.randn(1, requires_grad=True)\n",
        "\n",
        "z2_0 = torch.sigmoid(torch.matmul(layer1_out, w10) + b10)\n",
        "z2_1 = torch.sigmoid(torch.matmul(layer1_out, w11) + b11)\n",
        "\n",
        "layer2_out = torch.stack([z2_0, z2_1], dim=1)\n",
        "print(\"Layer 2 output:\", layer2_out)\n"
      ],
      "metadata": {
        "colab": {
          "base_uri": "https://localhost:8080/"
        },
        "id": "CmIMFMa7AI7M",
        "outputId": "c7f50ef1-3781-4f04-84cf-d803bb6a391f"
      },
      "execution_count": 5,
      "outputs": [
        {
          "output_type": "stream",
          "name": "stdout",
          "text": [
            "Layer 2 output: tensor([[0.6073, 0.0830]], grad_fn=<StackBackward0>)\n"
          ]
        }
      ]
    },
    {
      "cell_type": "code",
      "source": [
        "combined = layer2_out.sum(dim=1)\n",
        "combined_tanh = torch.tanh(combined)\n",
        "print(\"After Tanh:\", combined_tanh)\n"
      ],
      "metadata": {
        "colab": {
          "base_uri": "https://localhost:8080/"
        },
        "id": "HHmbMgIGALKM",
        "outputId": "c3c16384-38b6-4514-8027-ed7c4a14e202"
      },
      "execution_count": 6,
      "outputs": [
        {
          "output_type": "stream",
          "name": "stdout",
          "text": [
            "After Tanh: tensor([0.5982], grad_fn=<TanhBackward0>)\n"
          ]
        }
      ]
    },
    {
      "cell_type": "code",
      "source": [
        "w20 = torch.randn((1,), requires_grad=True)\n",
        "b20 = torch.randn(1, requires_grad=True)\n",
        "\n",
        "output = combined_tanh * w20 + b20\n",
        "print(\"Final Output:\", output)\n"
      ],
      "metadata": {
        "colab": {
          "base_uri": "https://localhost:8080/"
        },
        "id": "9A-eqetdAOoO",
        "outputId": "93fcece6-a241-430f-f823-931a2df444b3"
      },
      "execution_count": 7,
      "outputs": [
        {
          "output_type": "stream",
          "name": "stdout",
          "text": [
            "Final Output: tensor([-0.7243], grad_fn=<AddBackward0>)\n"
          ]
        }
      ]
    },
    {
      "cell_type": "code",
      "source": [
        "output.backward(torch.ones_like(output))\n",
        "print(\"Gradient of output wrt x:\", x.grad)\n"
      ],
      "metadata": {
        "colab": {
          "base_uri": "https://localhost:8080/"
        },
        "id": "vA37XnpdAQEd",
        "outputId": "487dd16c-eaab-4d2c-da48-aecb4d7627ef"
      },
      "execution_count": 8,
      "outputs": [
        {
          "output_type": "stream",
          "name": "stdout",
          "text": [
            "Gradient of output wrt x: tensor([[ 0.0019, -0.0029]])\n"
          ]
        }
      ]
    }
  ]
}