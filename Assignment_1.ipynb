{
  "nbformat": 4,
  "nbformat_minor": 0,
  "metadata": {
    "colab": {
      "provenance": [],
      "authorship_tag": "ABX9TyO/VGhvmGg5EGvSwmVsbct8",
      "include_colab_link": true
    },
    "kernelspec": {
      "name": "python3",
      "display_name": "Python 3"
    },
    "language_info": {
      "name": "python"
    }
  },
  "cells": [
    {
      "cell_type": "markdown",
      "metadata": {
        "id": "view-in-github",
        "colab_type": "text"
      },
      "source": [
        "<a href=\"https://colab.research.google.com/github/mohamedFayek2005/Ai_platform_/blob/main/Assignment_1.ipynb\" target=\"_parent\"><img src=\"https://colab.research.google.com/assets/colab-badge.svg\" alt=\"Open In Colab\"/></a>"
      ]
    },
    {
      "cell_type": "code",
      "source": [
        "import torch\n",
        "import torch.nn as nn\n",
        "import torch.nn.functional as F\n",
        "\n",
        "class MyNeuralNet(nn.Module):\n",
        "    def __init__(self):\n",
        "        super(MyNeuralNet, self).__init__()\n",
        "\n",
        "        # Layer 1: 2 → 3\n",
        "        self.w1 = nn.Parameter(torch.randn(2, 3))\n",
        "        self.b1 = nn.Parameter(torch.randn(3))\n",
        "\n",
        "        # Layer 2: 3 → 2\n",
        "        self.w2 = nn.Parameter(torch.randn(3, 2))\n",
        "        self.b2 = nn.Parameter(torch.randn(2))\n",
        "\n",
        "        # Output Layer: 1 neuron\n",
        "        self.w3 = nn.Parameter(torch.randn(1, 1))\n",
        "        self.b3 = nn.Parameter(torch.randn(1))\n",
        "\n",
        "    def forward(self, x):\n",
        "        # Layer 1 + ReLU\n",
        "        z1 = torch.matmul(x, self.w1) + self.b1\n",
        "        a1 = F.relu(z1)\n",
        "        print(\"Layer 1:\", a1)\n",
        "\n",
        "        # Layer 2 + Sigmoid\n",
        "        z2 = torch.matmul(a1, self.w2) + self.b2\n",
        "        a2 = torch.sigmoid(z2)\n",
        "        print(\"Layer 2:\", a2)\n",
        "\n",
        "        # Combine outputs + Tanh\n",
        "        combined = torch.tanh(a2.sum(dim=1, keepdim=True))\n",
        "        print(\"After Tanh:\", combined)\n",
        "\n",
        "        # Output (Linear)\n",
        "        output = torch.matmul(combined, self.w3) + self.b3\n",
        "        print(\"Output:\", output)\n",
        "\n",
        "        return output\n",
        "\n",
        "# -------------------- Execution --------------------\n",
        "x = torch.tensor([[1.0, 2.0]], requires_grad=True)\n",
        "model = MyNeuralNet()\n",
        "\n",
        "output = model(x)\n",
        "output.backward(torch.ones_like(output))\n",
        "\n",
        "print(\"Gradient wrt input:\", x.grad)\n"
      ],
      "metadata": {
        "colab": {
          "base_uri": "https://localhost:8080/"
        },
        "id": "z3TZtDGjCaNP",
        "outputId": "70bda5e8-00c2-40cf-d461-670a26faf0a4"
      },
      "execution_count": 9,
      "outputs": [
        {
          "output_type": "stream",
          "name": "stdout",
          "text": [
            "Layer 1: tensor([[0.6379, 3.1347, 4.0734]], grad_fn=<ReluBackward0>)\n",
            "Layer 2: tensor([[0.0230, 0.9996]], grad_fn=<SigmoidBackward0>)\n",
            "After Tanh: tensor([[0.7709]], grad_fn=<TanhBackward0>)\n",
            "Output: tensor([[1.2091]], grad_fn=<AddBackward0>)\n",
            "Gradient wrt input: tensor([[0.0062, 0.0021]])\n"
          ]
        }
      ]
    }
  ]
}